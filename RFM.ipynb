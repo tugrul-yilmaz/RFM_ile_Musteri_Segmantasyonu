{
 "cells": [
  {
   "cell_type": "markdown",
   "metadata": {},
   "source": [
    "# RFM ANALİZİ "
   ]
  },
  {
   "cell_type": "code",
   "execution_count": 1,
   "metadata": {},
   "outputs": [],
   "source": [
    "### İçindekiler\n",
    "\n",
    "# 1.Importing\n",
    "# 2.Veriyi anlama\n",
    "# 3.RFM Analizi\n",
    "# 4.Yorum ve öneriler"
   ]
  },
  {
   "cell_type": "markdown",
   "metadata": {},
   "source": [
    "## 1.Importing"
   ]
  },
  {
   "cell_type": "code",
   "execution_count": 2,
   "metadata": {},
   "outputs": [],
   "source": [
    "import datetime as dt\n",
    "import pandas as pd\n",
    "pd.set_option('display.max_columns', None)\n",
    "# pd.set_option('display.max_rows', None)\n",
    "pd.set_option('display.float_format', lambda x: '%.2f' % x)\n",
    "import warnings\n",
    "warnings.filterwarnings(\"ignore\")"
   ]
  },
  {
   "cell_type": "code",
   "execution_count": 3,
   "metadata": {},
   "outputs": [],
   "source": [
    "df_=pd.read_excel(\"online_retail_II.xlsx\",sheet_name=\"Year 2010-2011\" )\n",
    "df=df_.copy()"
   ]
  },
  {
   "cell_type": "markdown",
   "metadata": {},
   "source": [
    "## 2.Veriyi Anlama"
   ]
  },
  {
   "cell_type": "code",
   "execution_count": 4,
   "metadata": {},
   "outputs": [],
   "source": [
    "# Değişkenler\n",
    "\n",
    "# InvoiceNo: Fatura numarası. Her işleme yani faturaya ait eşsiz numara. C ile başlıyorsa iptal edilen işlem.\n",
    "# StockCode: Ürün kodu. Her bir ürün için eşsiz numara.\n",
    "# Description: Ürün ismi\n",
    "# Quantity: Ürün adedi. Faturalardaki ürünlerden kaçar tane satıldığını ifade etmektedir.\n",
    "# InvoiceDate: Fatura tarihi ve zamanı.\n",
    "# UnitPrice: Ürün fiyatı (Sterlin cinsinden)\n",
    "# CustomerID: Eşsiz müşteri numarası\n",
    "# Country: Ülke ismi. Müşterinin yaşadığı ülke."
   ]
  },
  {
   "cell_type": "code",
   "execution_count": 15,
   "metadata": {},
   "outputs": [
    {
     "name": "stdout",
     "output_type": "stream",
     "text": [
      "#######################\n",
      "  Invoice StockCode                          Description  Quantity  \\\n",
      "0  536365    85123A   WHITE HANGING HEART T-LIGHT HOLDER         6   \n",
      "1  536365     71053                  WHITE METAL LANTERN         6   \n",
      "2  536365    84406B       CREAM CUPID HEARTS COAT HANGER         8   \n",
      "3  536365    84029G  KNITTED UNION FLAG HOT WATER BOTTLE         6   \n",
      "4  536365    84029E       RED WOOLLY HOTTIE WHITE HEART.         6   \n",
      "\n",
      "          InvoiceDate  Price  Customer ID         Country  TotalPrice  \n",
      "0 2010-12-01 08:26:00   2.55     17850.00  United Kingdom       15.30  \n",
      "1 2010-12-01 08:26:00   3.39     17850.00  United Kingdom       20.34  \n",
      "2 2010-12-01 08:26:00   2.75     17850.00  United Kingdom       22.00  \n",
      "3 2010-12-01 08:26:00   3.39     17850.00  United Kingdom       20.34  \n",
      "4 2010-12-01 08:26:00   3.39     17850.00  United Kingdom       20.34  \n",
      "#######################\n",
      "                count     mean     std      min      25%      50%      75%  \\\n",
      "Quantity    397885.00    12.99  179.33     1.00     2.00     6.00    12.00   \n",
      "Price       397885.00     3.12   22.10     0.00     1.25     1.95     3.75   \n",
      "Customer ID 397885.00 15294.42 1713.14 12346.00 13969.00 15159.00 16795.00   \n",
      "TotalPrice  397885.00    22.40  309.07     0.00     4.68    11.80    19.80   \n",
      "\n",
      "                  max  \n",
      "Quantity     80995.00  \n",
      "Price         8142.75  \n",
      "Customer ID  18287.00  \n",
      "TotalPrice  168469.60  \n",
      "#######################\n",
      "Verinin boyutları: (397885, 9)\n",
      "#######################\n",
      "Verideki boş değişkenler\n",
      "Invoice        0\n",
      "StockCode      0\n",
      "Description    0\n",
      "Quantity       0\n",
      "InvoiceDate    0\n",
      "Price          0\n",
      "Customer ID    0\n",
      "Country        0\n",
      "TotalPrice     0\n",
      "dtype: int64\n"
     ]
    }
   ],
   "source": [
    "#Veri setinin ilk 5 gözlemi\n",
    "print(\"#######################\")\n",
    "print(df.head())\n",
    "# Veri setinin betimsel istatistikleri\n",
    "print(\"#######################\")\n",
    "print(df.describe().T)\n",
    "# Veri setinin boyutları\n",
    "print(\"#######################\")\n",
    "print(\"Verinin boyutları:\",df.shape)\n",
    "# Veri setinde hangi değişkende kaç tane eksik gözlem vardır?\n",
    "print(\"#######################\")\n",
    "print(\"Verideki boş değişkenler\")\n",
    "print(df.isnull().sum())\n",
    "# Eksik verilerin veri setinden çıkartılması\n",
    "df.dropna(inplace=True)    \n",
    "\n"
   ]
  },
  {
   "cell_type": "markdown",
   "metadata": {},
   "source": [
    "Not:Boş değişkenlerin silinmesi veri kaybına sebep olabilir.\n",
    "Ancak veri setimizin örnek sayısı fazla olduğundan bu kayıp göz ardı edilebilir"
   ]
  },
  {
   "cell_type": "code",
   "execution_count": 6,
   "metadata": {},
   "outputs": [
    {
     "name": "stdout",
     "output_type": "stream",
     "text": [
      "#######################\n",
      "Eşsiz ürün sayısı: 3896\n",
      "#######################\n",
      "                                    StockCode\n",
      "Description                                  \n",
      "WHITE HANGING HEART T-LIGHT HOLDER       2070\n",
      "REGENCY CAKESTAND 3 TIER                 1905\n",
      "JUMBO BAG RED RETROSPOT                  1662\n",
      "ASSORTED COLOUR BIRD ORNAMENT            1418\n",
      "PARTY BUNTING                            1416\n",
      "...                                       ...\n",
      "BLUE NEW BAROQUE FLOCK CANDLESTICK          1\n",
      "IVORY SHELL HEART EARRINGS                  1\n",
      "BLUE PAINTED KASHMIRI CHAIR                 1\n",
      "IVORY PANTRY HANGING LAMP                   1\n",
      "MINT DINER CLOCK                            1\n",
      "\n",
      "[3896 rows x 1 columns]\n"
     ]
    }
   ],
   "source": [
    "# Eşsiz ürün sayısı kaçtır?\n",
    "print(\"#######################\")\n",
    "print(\"Eşsiz ürün sayısı:\",df[\"Description\"].nunique())\n",
    "# Hangi üründen kaçar tane vardır?\n",
    "print(\"#######################\")\n",
    "print(df.groupby(\"Description\").agg({\"StockCode\":\"count\"}).sort_values(by=\"StockCode\",ascending=False))"
   ]
  },
  {
   "cell_type": "markdown",
   "metadata": {},
   "source": [
    "Faturalardaki ‘C’ iptal edilen işlemleri göstermektedir.Bu yüzden iptal edilen işlemleri veri setinden çıkaracağız"
   ]
  },
  {
   "cell_type": "code",
   "execution_count": 7,
   "metadata": {},
   "outputs": [],
   "source": [
    "df=df[~df[\"Invoice\"].str.contains(\"C\",na=False)]"
   ]
  },
  {
   "cell_type": "markdown",
   "metadata": {},
   "source": [
    "Fatura başına elde edilen toplam kazancı ifade eden ‘TotalPrice’ adında bir değişken oluşturunuz"
   ]
  },
  {
   "cell_type": "code",
   "execution_count": 8,
   "metadata": {},
   "outputs": [],
   "source": [
    "df[\"TotalPrice\"] = df[\"Quantity\"] * df[\"Price\"]\n",
    "df=df[df[\"TotalPrice\"]>0]"
   ]
  },
  {
   "cell_type": "markdown",
   "metadata": {},
   "source": [
    "## 3.RFM Analizi"
   ]
  },
  {
   "cell_type": "markdown",
   "metadata": {},
   "source": [
    "RFM metriklerinin hesaplanması"
   ]
  },
  {
   "cell_type": "code",
   "execution_count": 9,
   "metadata": {},
   "outputs": [],
   "source": [
    "df[\"InvoiceDate\"].max()\n",
    "today_date=dt.datetime(2011,12,11)\n",
    "# Veri setindeki son yapılan alışveriş tarihinden 2 gün sonrası Receny değişkeni için referans noktası olarka belirlendi\n",
    "\n",
    "rfm=df.groupby(\"Customer ID\").agg({\"InvoiceDate\": lambda x :(today_date-x.max()).days,\n",
    "                               \"Invoice\": lambda x : x.nunique(),\n",
    "                               \"TotalPrice\":lambda x : x.sum()})\n",
    "\n",
    "rfm.columns=[\"recency\",\"frequency\",\"monetary\"]\n",
    "\n",
    "rfm=rfm[rfm[\"monetary\"]>0]\n",
    "\n"
   ]
  },
  {
   "cell_type": "markdown",
   "metadata": {},
   "source": [
    "RFM skorlarının oluşturulması ve tek bir değişkene çevrilmesi"
   ]
  },
  {
   "cell_type": "code",
   "execution_count": 11,
   "metadata": {},
   "outputs": [],
   "source": [
    "rfm[\"receny_score\"] = pd.qcut(rfm[\"recency\"],5,labels=[5,4,3,2,1])\n",
    "\n",
    "rfm[\"frequency_score\"] = pd.qcut(rfm[\"frequency\"].rank(method=\"first\"),5,labels=[1,2,3,4,5])\n",
    "\n",
    "rfm[\"monetary_score\"] = pd.qcut(rfm[\"monetary\"],5,labels=[1,2,3,4,5])\n",
    "\n",
    "rfm[\"rfm_score\"]=rfm[\"receny_score\"].astype(\"str\")+rfm[\"frequency_score\"].astype(\"str\")"
   ]
  },
  {
   "cell_type": "markdown",
   "metadata": {},
   "source": [
    "RFM skorlarının segment olarak tanımlanması"
   ]
  },
  {
   "cell_type": "code",
   "execution_count": 12,
   "metadata": {},
   "outputs": [],
   "source": [
    "\n",
    "seg_map = {\n",
    "    r'[1-2][1-2]': 'hibernating',\n",
    "    r'[1-2][3-4]': 'at_Risk',\n",
    "    r'[1-2]5': 'cant_loose',\n",
    "    r'3[1-2]': 'about_to_sleep',\n",
    "    r'33': 'need_attention',\n",
    "    r'[3-4][4-5]': 'loyal_customers',\n",
    "    r'41': 'promising',\n",
    "    r'51': 'new_customers',\n",
    "    r'[4-5][2-3]': 'potential_loyalists',\n",
    "    r'5[4-5]': 'champions'\n",
    "}\n",
    "\n",
    "\n",
    "rfm['segment'] = rfm['rfm_score'].replace(seg_map, regex=True)\n",
    "\n",
    "rfm.reset_index()\n",
    "\n",
    "version1=rfm.groupby(\"segment\").agg({\"recency\":[\"mean\",\"count\"],\n",
    "                            \"frequency\":[\"mean\",\"count\"],\n",
    "                            \"monetary\":[\"mean\",\"count\"]})\n"
   ]
  },
  {
   "cell_type": "code",
   "execution_count": 14,
   "metadata": {},
   "outputs": [
    {
     "data": {
      "text/html": [
       "<div>\n",
       "<style scoped>\n",
       "    .dataframe tbody tr th:only-of-type {\n",
       "        vertical-align: middle;\n",
       "    }\n",
       "\n",
       "    .dataframe tbody tr th {\n",
       "        vertical-align: top;\n",
       "    }\n",
       "\n",
       "    .dataframe thead th {\n",
       "        text-align: right;\n",
       "    }\n",
       "</style>\n",
       "<table border=\"1\" class=\"dataframe\">\n",
       "  <thead>\n",
       "    <tr style=\"text-align: right;\">\n",
       "      <th></th>\n",
       "      <th>recency</th>\n",
       "      <th>frequency</th>\n",
       "      <th>monetary</th>\n",
       "      <th>receny_score</th>\n",
       "      <th>frequency_score</th>\n",
       "      <th>monetary_score</th>\n",
       "      <th>rfm_score</th>\n",
       "      <th>segment</th>\n",
       "    </tr>\n",
       "    <tr>\n",
       "      <th>Customer ID</th>\n",
       "      <th></th>\n",
       "      <th></th>\n",
       "      <th></th>\n",
       "      <th></th>\n",
       "      <th></th>\n",
       "      <th></th>\n",
       "      <th></th>\n",
       "      <th></th>\n",
       "    </tr>\n",
       "  </thead>\n",
       "  <tbody>\n",
       "    <tr>\n",
       "      <th>12346.00</th>\n",
       "      <td>326</td>\n",
       "      <td>1</td>\n",
       "      <td>77183.60</td>\n",
       "      <td>1</td>\n",
       "      <td>1</td>\n",
       "      <td>5</td>\n",
       "      <td>11</td>\n",
       "      <td>hibernating</td>\n",
       "    </tr>\n",
       "    <tr>\n",
       "      <th>12347.00</th>\n",
       "      <td>3</td>\n",
       "      <td>7</td>\n",
       "      <td>4310.00</td>\n",
       "      <td>5</td>\n",
       "      <td>5</td>\n",
       "      <td>5</td>\n",
       "      <td>55</td>\n",
       "      <td>champions</td>\n",
       "    </tr>\n",
       "    <tr>\n",
       "      <th>12348.00</th>\n",
       "      <td>76</td>\n",
       "      <td>4</td>\n",
       "      <td>1797.24</td>\n",
       "      <td>2</td>\n",
       "      <td>4</td>\n",
       "      <td>4</td>\n",
       "      <td>24</td>\n",
       "      <td>at_Risk</td>\n",
       "    </tr>\n",
       "    <tr>\n",
       "      <th>12349.00</th>\n",
       "      <td>19</td>\n",
       "      <td>1</td>\n",
       "      <td>1757.55</td>\n",
       "      <td>4</td>\n",
       "      <td>1</td>\n",
       "      <td>4</td>\n",
       "      <td>41</td>\n",
       "      <td>promising</td>\n",
       "    </tr>\n",
       "    <tr>\n",
       "      <th>12350.00</th>\n",
       "      <td>311</td>\n",
       "      <td>1</td>\n",
       "      <td>334.40</td>\n",
       "      <td>1</td>\n",
       "      <td>1</td>\n",
       "      <td>2</td>\n",
       "      <td>11</td>\n",
       "      <td>hibernating</td>\n",
       "    </tr>\n",
       "    <tr>\n",
       "      <th>12352.00</th>\n",
       "      <td>37</td>\n",
       "      <td>8</td>\n",
       "      <td>2506.04</td>\n",
       "      <td>3</td>\n",
       "      <td>5</td>\n",
       "      <td>5</td>\n",
       "      <td>35</td>\n",
       "      <td>loyal_customers</td>\n",
       "    </tr>\n",
       "    <tr>\n",
       "      <th>12353.00</th>\n",
       "      <td>205</td>\n",
       "      <td>1</td>\n",
       "      <td>89.00</td>\n",
       "      <td>1</td>\n",
       "      <td>1</td>\n",
       "      <td>1</td>\n",
       "      <td>11</td>\n",
       "      <td>hibernating</td>\n",
       "    </tr>\n",
       "    <tr>\n",
       "      <th>12354.00</th>\n",
       "      <td>233</td>\n",
       "      <td>1</td>\n",
       "      <td>1079.40</td>\n",
       "      <td>1</td>\n",
       "      <td>1</td>\n",
       "      <td>4</td>\n",
       "      <td>11</td>\n",
       "      <td>hibernating</td>\n",
       "    </tr>\n",
       "    <tr>\n",
       "      <th>12355.00</th>\n",
       "      <td>215</td>\n",
       "      <td>1</td>\n",
       "      <td>459.40</td>\n",
       "      <td>1</td>\n",
       "      <td>1</td>\n",
       "      <td>2</td>\n",
       "      <td>11</td>\n",
       "      <td>hibernating</td>\n",
       "    </tr>\n",
       "    <tr>\n",
       "      <th>12356.00</th>\n",
       "      <td>23</td>\n",
       "      <td>3</td>\n",
       "      <td>2811.43</td>\n",
       "      <td>4</td>\n",
       "      <td>3</td>\n",
       "      <td>5</td>\n",
       "      <td>43</td>\n",
       "      <td>potential_loyalists</td>\n",
       "    </tr>\n",
       "  </tbody>\n",
       "</table>\n",
       "</div>"
      ],
      "text/plain": [
       "             recency  frequency  monetary receny_score frequency_score  \\\n",
       "Customer ID                                                              \n",
       "12346.00         326          1  77183.60            1               1   \n",
       "12347.00           3          7   4310.00            5               5   \n",
       "12348.00          76          4   1797.24            2               4   \n",
       "12349.00          19          1   1757.55            4               1   \n",
       "12350.00         311          1    334.40            1               1   \n",
       "12352.00          37          8   2506.04            3               5   \n",
       "12353.00         205          1     89.00            1               1   \n",
       "12354.00         233          1   1079.40            1               1   \n",
       "12355.00         215          1    459.40            1               1   \n",
       "12356.00          23          3   2811.43            4               3   \n",
       "\n",
       "            monetary_score rfm_score              segment  \n",
       "Customer ID                                                \n",
       "12346.00                 5        11          hibernating  \n",
       "12347.00                 5        55            champions  \n",
       "12348.00                 4        24              at_Risk  \n",
       "12349.00                 4        41            promising  \n",
       "12350.00                 2        11          hibernating  \n",
       "12352.00                 5        35      loyal_customers  \n",
       "12353.00                 1        11          hibernating  \n",
       "12354.00                 4        11          hibernating  \n",
       "12355.00                 2        11          hibernating  \n",
       "12356.00                 5        43  potential_loyalists  "
      ]
     },
     "execution_count": 14,
     "metadata": {},
     "output_type": "execute_result"
    }
   ],
   "source": [
    "rfm.head(10)"
   ]
  },
  {
   "cell_type": "code",
   "execution_count": 17,
   "metadata": {},
   "outputs": [
    {
     "data": {
      "text/html": [
       "<div>\n",
       "<style scoped>\n",
       "    .dataframe tbody tr th:only-of-type {\n",
       "        vertical-align: middle;\n",
       "    }\n",
       "\n",
       "    .dataframe tbody tr th {\n",
       "        vertical-align: top;\n",
       "    }\n",
       "\n",
       "    .dataframe thead tr th {\n",
       "        text-align: left;\n",
       "    }\n",
       "\n",
       "    .dataframe thead tr:last-of-type th {\n",
       "        text-align: right;\n",
       "    }\n",
       "</style>\n",
       "<table border=\"1\" class=\"dataframe\">\n",
       "  <thead>\n",
       "    <tr>\n",
       "      <th></th>\n",
       "      <th colspan=\"2\" halign=\"left\">recency</th>\n",
       "      <th colspan=\"2\" halign=\"left\">frequency</th>\n",
       "      <th colspan=\"2\" halign=\"left\">monetary</th>\n",
       "    </tr>\n",
       "    <tr>\n",
       "      <th></th>\n",
       "      <th>mean</th>\n",
       "      <th>count</th>\n",
       "      <th>mean</th>\n",
       "      <th>count</th>\n",
       "      <th>mean</th>\n",
       "      <th>count</th>\n",
       "    </tr>\n",
       "    <tr>\n",
       "      <th>segment</th>\n",
       "      <th></th>\n",
       "      <th></th>\n",
       "      <th></th>\n",
       "      <th></th>\n",
       "      <th></th>\n",
       "      <th></th>\n",
       "    </tr>\n",
       "  </thead>\n",
       "  <tbody>\n",
       "    <tr>\n",
       "      <th>about_to_sleep</th>\n",
       "      <td>53.31</td>\n",
       "      <td>352</td>\n",
       "      <td>1.16</td>\n",
       "      <td>352</td>\n",
       "      <td>471.99</td>\n",
       "      <td>352</td>\n",
       "    </tr>\n",
       "    <tr>\n",
       "      <th>at_Risk</th>\n",
       "      <td>153.79</td>\n",
       "      <td>593</td>\n",
       "      <td>2.88</td>\n",
       "      <td>593</td>\n",
       "      <td>1084.54</td>\n",
       "      <td>593</td>\n",
       "    </tr>\n",
       "    <tr>\n",
       "      <th>cant_loose</th>\n",
       "      <td>132.97</td>\n",
       "      <td>63</td>\n",
       "      <td>8.38</td>\n",
       "      <td>63</td>\n",
       "      <td>2796.16</td>\n",
       "      <td>63</td>\n",
       "    </tr>\n",
       "    <tr>\n",
       "      <th>champions</th>\n",
       "      <td>6.36</td>\n",
       "      <td>633</td>\n",
       "      <td>12.41</td>\n",
       "      <td>633</td>\n",
       "      <td>6857.96</td>\n",
       "      <td>633</td>\n",
       "    </tr>\n",
       "    <tr>\n",
       "      <th>hibernating</th>\n",
       "      <td>217.61</td>\n",
       "      <td>1071</td>\n",
       "      <td>1.10</td>\n",
       "      <td>1071</td>\n",
       "      <td>488.64</td>\n",
       "      <td>1071</td>\n",
       "    </tr>\n",
       "    <tr>\n",
       "      <th>loyal_customers</th>\n",
       "      <td>33.61</td>\n",
       "      <td>819</td>\n",
       "      <td>6.48</td>\n",
       "      <td>819</td>\n",
       "      <td>2864.25</td>\n",
       "      <td>819</td>\n",
       "    </tr>\n",
       "    <tr>\n",
       "      <th>need_attention</th>\n",
       "      <td>52.43</td>\n",
       "      <td>187</td>\n",
       "      <td>2.33</td>\n",
       "      <td>187</td>\n",
       "      <td>897.63</td>\n",
       "      <td>187</td>\n",
       "    </tr>\n",
       "    <tr>\n",
       "      <th>new_customers</th>\n",
       "      <td>7.43</td>\n",
       "      <td>42</td>\n",
       "      <td>1.00</td>\n",
       "      <td>42</td>\n",
       "      <td>388.21</td>\n",
       "      <td>42</td>\n",
       "    </tr>\n",
       "    <tr>\n",
       "      <th>potential_loyalists</th>\n",
       "      <td>17.40</td>\n",
       "      <td>484</td>\n",
       "      <td>2.01</td>\n",
       "      <td>484</td>\n",
       "      <td>1041.22</td>\n",
       "      <td>484</td>\n",
       "    </tr>\n",
       "    <tr>\n",
       "      <th>promising</th>\n",
       "      <td>23.51</td>\n",
       "      <td>94</td>\n",
       "      <td>1.00</td>\n",
       "      <td>94</td>\n",
       "      <td>294.01</td>\n",
       "      <td>94</td>\n",
       "    </tr>\n",
       "  </tbody>\n",
       "</table>\n",
       "</div>"
      ],
      "text/plain": [
       "                    recency       frequency       monetary      \n",
       "                       mean count      mean count     mean count\n",
       "segment                                                         \n",
       "about_to_sleep        53.31   352      1.16   352   471.99   352\n",
       "at_Risk              153.79   593      2.88   593  1084.54   593\n",
       "cant_loose           132.97    63      8.38    63  2796.16    63\n",
       "champions              6.36   633     12.41   633  6857.96   633\n",
       "hibernating          217.61  1071      1.10  1071   488.64  1071\n",
       "loyal_customers       33.61   819      6.48   819  2864.25   819\n",
       "need_attention        52.43   187      2.33   187   897.63   187\n",
       "new_customers          7.43    42      1.00    42   388.21    42\n",
       "potential_loyalists   17.40   484      2.01   484  1041.22   484\n",
       "promising             23.51    94      1.00    94   294.01    94"
      ]
     },
     "execution_count": 17,
     "metadata": {},
     "output_type": "execute_result"
    }
   ],
   "source": [
    "version1"
   ]
  },
  {
   "cell_type": "markdown",
   "metadata": {},
   "source": [
    "# 4.Yorum ve öneriler"
   ]
  },
  {
   "cell_type": "markdown",
   "metadata": {},
   "source": [
    "Pareto prensibi der ki: Gelirinizin %80'ini müşterilerinizin %20'si oluşturur.\n",
    "Bu yüzden en çok gelir elde ettiğimiz segmentlerin bizim için önemli olduğunu düşünüyorum."
   ]
  },
  {
   "cell_type": "code",
   "execution_count": 18,
   "metadata": {},
   "outputs": [
    {
     "data": {
      "text/plain": [
       "segment\n",
       "champions             4341091.16\n",
       "loyal_customers       2345818.94\n",
       "at_Risk                643129.43\n",
       "hibernating            523336.98\n",
       "potential_loyalists    503951.45\n",
       "cant_loose             176157.82\n",
       "need_attention         167856.41\n",
       "about_to_sleep         166142.02\n",
       "promising               27636.75\n",
       "new_customers           16304.94\n",
       "Name: monetary, dtype: float64"
      ]
     },
     "execution_count": 18,
     "metadata": {},
     "output_type": "execute_result"
    }
   ],
   "source": [
    "rfm.groupby(\"segment\")[\"monetary\"].sum().sort_values(ascending=False)"
   ]
  },
  {
   "cell_type": "markdown",
   "metadata": {},
   "source": [
    "Çıkan sonuca göre diyebilirim ki champions ve loyal_customers benim için açık ara en önemli iki segment"
   ]
  },
  {
   "cell_type": "code",
   "execution_count": 26,
   "metadata": {},
   "outputs": [
    {
     "name": "stdout",
     "output_type": "stream",
     "text": [
      "Champions\n",
      "           count    mean      std    min     25%     50%     75%       max\n",
      "recency   633.00    6.36     3.68   1.00    3.00    5.00   10.00     13.00\n",
      "frequency 633.00   12.41    16.45   3.00    5.00    8.00   14.00    209.00\n",
      "monetary  633.00 6857.96 20339.76 201.12 1451.28 2612.96 4954.84 280206.02\n",
      "\n",
      " Loyal Customers\n",
      "           count    mean     std   min    25%     50%     75%       max\n",
      "recency   819.00   33.61   15.58 15.00  20.00   30.00   44.00     72.00\n",
      "frequency 819.00    6.48    4.55  3.00   4.00    5.00    8.00     63.00\n",
      "monetary  819.00 2864.25 6007.06 36.56 991.80 1740.48 3052.91 124914.53\n"
     ]
    }
   ],
   "source": [
    "print(\"Champions\")\n",
    "print(rfm[rfm[\"segment\"]==\"champions\"].describe().T)\n",
    "print(\"\\n Loyal Customers\")\n",
    "print(rfm[rfm[\"segment\"]==\"loyal_customers\"].describe().T)"
   ]
  },
  {
   "cell_type": "code",
   "execution_count": 29,
   "metadata": {},
   "outputs": [
    {
     "name": "stdout",
     "output_type": "stream",
     "text": [
      "Frequency değişkenine göre segmentlerin ortalaması\n",
      "segment\n",
      "champions             12.41\n",
      "cant_loose             8.38\n",
      "loyal_customers        6.48\n",
      "at_Risk                2.88\n",
      "need_attention         2.33\n",
      "potential_loyalists    2.01\n",
      "about_to_sleep         1.16\n",
      "hibernating            1.10\n",
      "promising              1.00\n",
      "new_customers          1.00\n",
      "Name: frequency, dtype: float64\n",
      "\n",
      "Recency değişkenine göre segmentlerin ortalaması\n",
      "segment\n",
      "champions               6.36\n",
      "new_customers           7.43\n",
      "potential_loyalists    17.40\n",
      "promising              23.51\n",
      "loyal_customers        33.61\n",
      "need_attention         52.43\n",
      "about_to_sleep         53.31\n",
      "cant_loose            132.97\n",
      "at_Risk               153.79\n",
      "hibernating           217.61\n",
      "Name: recency, dtype: float64\n"
     ]
    }
   ],
   "source": [
    "print(\"Frequency değişkenine göre segmentlerin ortalaması\")\n",
    "print(rfm.groupby(\"segment\")[\"frequency\"].mean().sort_values(ascending=False))\n",
    "print(\"\\nRecency değişkenine göre segmentlerin ortalaması\")\n",
    "print(rfm.groupby(\"segment\")[\"recency\"].mean().sort_values(ascending=True))"
   ]
  },
  {
   "cell_type": "markdown",
   "metadata": {},
   "source": [
    "Yukarıdaki bilgilere göre incelediğimde \"champions\" her alanda zirvede. Bu yüzden onlar için hiçbir şey yapmam.\n",
    "Onlara yapacağım her aksiyon iyi ya da kötü risk taşıyor.Düzgün giden bir davranışı bozmak istemem."
   ]
  },
  {
   "cell_type": "markdown",
   "metadata": {},
   "source": [
    "\"loyal customers\" segmenti benim için en önemli ikinci segment olmasına rağmen frekans değerleri açısından 3. recency değerleri\n",
    "açısından 5. sırada. Son zamanlarda ilgileri biraz azalmış.Bunu arttırmaya çalışmak faydalı olabilir."
   ]
  },
  {
   "cell_type": "code",
   "execution_count": null,
   "metadata": {},
   "outputs": [],
   "source": []
  }
 ],
 "metadata": {
  "kernelspec": {
   "display_name": "Python 3",
   "language": "python",
   "name": "python3"
  },
  "language_info": {
   "codemirror_mode": {
    "name": "ipython",
    "version": 3
   },
   "file_extension": ".py",
   "mimetype": "text/x-python",
   "name": "python",
   "nbconvert_exporter": "python",
   "pygments_lexer": "ipython3",
   "version": "3.8.5"
  }
 },
 "nbformat": 4,
 "nbformat_minor": 4
}
